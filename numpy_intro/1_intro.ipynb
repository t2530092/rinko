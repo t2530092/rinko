{
 "cells": [
  {
   "cell_type": "code",
   "execution_count": 8,
   "id": "635718c6-8f70-4730-8408-c1f3fd97b2f0",
   "metadata": {},
   "outputs": [],
   "source": [
    "import numpy as np"
   ]
  },
  {
   "cell_type": "code",
   "execution_count": 9,
   "id": "6806f7a1-2b60-467e-8499-86c44a0cbfbf",
   "metadata": {},
   "outputs": [],
   "source": [
    "np_array = np.array(\n",
    "    [\n",
    "        [1, 2, 3, 4], \n",
    "        [5, 6, 7, 8],\n",
    "    ]\n",
    ")"
   ]
  },
  {
   "cell_type": "code",
   "execution_count": 10,
   "id": "8fe21381-ba85-4db1-8ace-c0f5b9a9c099",
   "metadata": {},
   "outputs": [
    {
     "name": "stdout",
     "output_type": "stream",
     "text": [
      "[[1 2 3 4]\n",
      " [5 6 7 8]]\n",
      "(2, 4)\n"
     ]
    }
   ],
   "source": [
    "print(np_array)\n",
    "print(np_array.shape)"
   ]
  },
  {
   "cell_type": "code",
   "execution_count": 15,
   "id": "113754ba-e6fb-44ae-8fe6-df41391714bf",
   "metadata": {},
   "outputs": [
    {
     "name": "stdout",
     "output_type": "stream",
     "text": [
      "[[1. 1. 1. 1. 1. 1. 1. 1. 1. 1.]\n",
      " [1. 1. 1. 1. 1. 1. 1. 1. 1. 1.]\n",
      " [1. 1. 1. 1. 1. 1. 1. 1. 1. 1.]\n",
      " [1. 1. 1. 1. 1. 1. 1. 1. 1. 1.]\n",
      " [1. 1. 1. 1. 1. 1. 1. 1. 1. 1.]\n",
      " [1. 1. 1. 1. 1. 1. 1. 1. 1. 1.]\n",
      " [1. 1. 1. 1. 1. 1. 1. 1. 1. 1.]\n",
      " [1. 1. 1. 1. 1. 1. 1. 1. 1. 1.]\n",
      " [1. 1. 1. 1. 1. 1. 1. 1. 1. 1.]\n",
      " [1. 1. 1. 1. 1. 1. 1. 1. 1. 1.]]\n"
     ]
    }
   ],
   "source": [
    "np_array = np.ones((10, 10), dtype = float)\n",
    "print(np_array)"
   ]
  },
  {
   "cell_type": "code",
   "execution_count": 16,
   "id": "79f861f4-dd94-46de-bf6d-82c7ba6656a9",
   "metadata": {},
   "outputs": [
    {
     "name": "stdout",
     "output_type": "stream",
     "text": [
      "[[1. 1. 1. 1. 1. 1. 1. 1. 1. 1. 1. 1. 1. 1. 1. 1. 1. 1. 1. 1. 1. 1. 1. 1.\n",
      "  1. 1. 1. 1. 1. 1. 1. 1. 1. 1. 1. 1. 1. 1. 1. 1. 1. 1. 1. 1. 1. 1. 1. 1.\n",
      "  1. 1.]\n",
      " [1. 1. 1. 1. 1. 1. 1. 1. 1. 1. 1. 1. 1. 1. 1. 1. 1. 1. 1. 1. 1. 1. 1. 1.\n",
      "  1. 1. 1. 1. 1. 1. 1. 1. 1. 1. 1. 1. 1. 1. 1. 1. 1. 1. 1. 1. 1. 1. 1. 1.\n",
      "  1. 1.]]\n"
     ]
    }
   ],
   "source": [
    "reshaped_np_array = np_array.reshape((2, 50))\n",
    "print(reshaped_np_array)"
   ]
  },
  {
   "cell_type": "code",
   "execution_count": 18,
   "id": "6c242de9-de59-4676-a976-3f28b522d077",
   "metadata": {},
   "outputs": [
    {
     "name": "stdout",
     "output_type": "stream",
     "text": [
      "Python list size: 48000\n",
      "Numpy Array size:8000\n"
     ]
    }
   ],
   "source": [
    "import sys\n",
    "python_list = range(1000)\n",
    "print(f\"Python list size: {sys.getsizeof(python_list) * len(python_list)}\")\n",
    "\n",
    "np_array = np.arange(1000)\n",
    "print(f\"Numpy Array size:{np_array.size * np_array.itemsize}\")"
   ]
  },
  {
   "cell_type": "code",
   "execution_count": 22,
   "id": "30b32c1b-fdf9-46ab-ae71-e5e1b1053835",
   "metadata": {},
   "outputs": [
    {
     "name": "stdout",
     "output_type": "stream",
     "text": [
      "Python multiplication time used:0.006583452224731445\n",
      "Numpy nultiplication time used:0.00040268898010253906\n"
     ]
    }
   ],
   "source": [
    "import time\n",
    "array_size = 1_000_00\n",
    "python_list1 = range(array_size)\n",
    "python_list2 = range(array_size)\n",
    "\n",
    "start_time = time.time()\n",
    "python_multiplication = [(n1 * n2) for n1, n2 in zip(python_list1, python_list2)]\n",
    "print(f\"Python multiplication time used:{time.time() - start_time}\")\n",
    "\n",
    "np_array1 = np.arange(array_size)\n",
    "np_array2 = np.arange(array_size)\n",
    "start_time = time.time()\n",
    "numpy_multiplication = np_array1 * np_array2\n",
    "print(f\"Numpy nultiplication time used:{time.time() - start_time}\")\n"
   ]
  },
  {
   "cell_type": "code",
   "execution_count": 24,
   "id": "7cc1af3a-a06e-49a6-8b41-bc4dbd32670f",
   "metadata": {},
   "outputs": [
    {
     "name": "stdout",
     "output_type": "stream",
     "text": [
      "[[ 1  2  3  4  5]\n",
      " [ 6  7  8  9 10]\n",
      " [11 12 13 14 15]\n",
      " [16 17 18 19 20]]\n"
     ]
    }
   ],
   "source": [
    "np_array = np.arange(1, 21).reshape((4, 5))\n",
    "print(np_array)"
   ]
  },
  {
   "cell_type": "code",
   "execution_count": 25,
   "id": "21f88f55-e82d-49e2-bcbf-1f89d228f0bf",
   "metadata": {},
   "outputs": [
    {
     "name": "stdout",
     "output_type": "stream",
     "text": [
      "0\n",
      "19\n",
      "10.5\n",
      "10.5\n"
     ]
    }
   ],
   "source": [
    "print(np.argmin(np_array))\n",
    "print(np.argmax(np_array))\n",
    "print(np.mean(np_array))\n",
    "print(np.median(np_array))"
   ]
  },
  {
   "cell_type": "code",
   "execution_count": 29,
   "id": "0a387703-1704-43ce-a70e-0d71c6c8702f",
   "metadata": {},
   "outputs": [
    {
     "name": "stdout",
     "output_type": "stream",
     "text": [
      "[1 2 3 4 5]\n"
     ]
    }
   ],
   "source": [
    "from numpy import savetxt\n",
    "np_array = np.array([1, 2, 3, 4, 5])\n",
    "print(np_array)\n",
    "savetxt(\"data.csv\", np_array, delimiter=\",\")"
   ]
  },
  {
   "cell_type": "code",
   "execution_count": 30,
   "id": "399aaf51-6cc6-46b5-8a80-b13edeb198e1",
   "metadata": {},
   "outputs": [
    {
     "name": "stdout",
     "output_type": "stream",
     "text": [
      "[1 2 3 4 5]\n"
     ]
    }
   ],
   "source": [
    "from numpy import loadtxt\n",
    "\n",
    "data = loadtxt(\"data.csv\", delimiter=\",\")\n",
    "print(data.astype(int))"
   ]
  },
  {
   "cell_type": "code",
   "execution_count": null,
   "id": "a1c7fe6c-9edd-4028-94e7-1c5360f182d6",
   "metadata": {},
   "outputs": [],
   "source": []
  }
 ],
 "metadata": {
  "kernelspec": {
   "display_name": "Python 3 (ipykernel)",
   "language": "python",
   "name": "python3"
  },
  "language_info": {
   "codemirror_mode": {
    "name": "ipython",
    "version": 3
   },
   "file_extension": ".py",
   "mimetype": "text/x-python",
   "name": "python",
   "nbconvert_exporter": "python",
   "pygments_lexer": "ipython3",
   "version": "3.12.10"
  }
 },
 "nbformat": 4,
 "nbformat_minor": 5
}
