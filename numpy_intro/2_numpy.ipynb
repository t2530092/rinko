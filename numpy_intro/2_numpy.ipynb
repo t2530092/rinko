{
 "cells": [
  {
   "cell_type": "code",
   "execution_count": 3,
   "id": "7ab24155-527c-42cd-aff8-2bb61d57ebbb",
   "metadata": {},
   "outputs": [],
   "source": [
    "import numpy as np"
   ]
  },
  {
   "cell_type": "code",
   "execution_count": 4,
   "id": "87b8c80d-afa3-4a3a-b822-e4ff2134f0de",
   "metadata": {},
   "outputs": [
    {
     "name": "stdout",
     "output_type": "stream",
     "text": [
      "<class 'numpy.ndarray'>\n",
      "(3,)\n"
     ]
    }
   ],
   "source": [
    "np_array = np.array([1, 2, 3])\n",
    "print(type(np_array))\n",
    "print(np_array.shape)"
   ]
  },
  {
   "cell_type": "code",
   "execution_count": 11,
   "id": "fc2a87be-93b5-4432-8ff4-8175c5121189",
   "metadata": {},
   "outputs": [
    {
     "name": "stdout",
     "output_type": "stream",
     "text": [
      "[[0. 0. 0. 0. 0. 0. 0.]\n",
      " [0. 0. 0. 0. 0. 0. 0.]\n",
      " [0. 0. 0. 0. 0. 0. 0.]\n",
      " [0. 0. 0. 0. 0. 0. 0.]\n",
      " [0. 0. 0. 0. 0. 0. 0.]\n",
      " [0. 0. 0. 0. 0. 0. 0.]\n",
      " [0. 0. 0. 0. 0. 0. 0.]]\n",
      "[[1. 1. 1. 1. 1. 1. 1.]\n",
      " [1. 1. 1. 1. 1. 1. 1.]\n",
      " [1. 1. 1. 1. 1. 1. 1.]\n",
      " [1. 1. 1. 1. 1. 1. 1.]\n",
      " [1. 1. 1. 1. 1. 1. 1.]\n",
      " [1. 1. 1. 1. 1. 1. 1.]\n",
      " [1. 1. 1. 1. 1. 1. 1.]]\n",
      "[[7 7 7 7 7 7 7]\n",
      " [7 7 7 7 7 7 7]\n",
      " [7 7 7 7 7 7 7]\n",
      " [7 7 7 7 7 7 7]\n",
      " [7 7 7 7 7 7 7]\n",
      " [7 7 7 7 7 7 7]\n",
      " [7 7 7 7 7 7 7]]\n",
      "[[3.5e-323 3.5e-323 3.5e-323 3.5e-323 3.5e-323 3.5e-323 3.5e-323]\n",
      " [3.5e-323 3.5e-323 3.5e-323 3.5e-323 3.5e-323 3.5e-323 3.5e-323]\n",
      " [3.5e-323 3.5e-323 3.5e-323 3.5e-323 3.5e-323 3.5e-323 3.5e-323]\n",
      " [3.5e-323 3.5e-323 3.5e-323 3.5e-323 3.5e-323 3.5e-323 3.5e-323]\n",
      " [3.5e-323 3.5e-323 3.5e-323 3.5e-323 3.5e-323 3.5e-323 3.5e-323]\n",
      " [3.5e-323 3.5e-323 3.5e-323 3.5e-323 3.5e-323 3.5e-323 3.5e-323]\n",
      " [3.5e-323 3.5e-323 3.5e-323 3.5e-323 3.5e-323 3.5e-323 3.5e-323]]\n"
     ]
    }
   ],
   "source": [
    "zero_array = np.zeros((7, 7))\n",
    "print(zero_array)\n",
    "\n",
    "one_array = np.ones((7, 7))\n",
    "print(one_array)\n",
    "\n",
    "full_array = np.full((7, 7), 7)\n",
    "print(full_array)\n",
    "\n",
    "empty_array = np.empty((7, 7))\n",
    "print(empty_array)\n"
   ]
  },
  {
   "cell_type": "code",
   "execution_count": null,
   "id": "e539d587-f090-4e2b-b493-68cefb7950b1",
   "metadata": {},
   "outputs": [],
   "source": []
  }
 ],
 "metadata": {
  "kernelspec": {
   "display_name": "Python 3 (ipykernel)",
   "language": "python",
   "name": "python3"
  },
  "language_info": {
   "codemirror_mode": {
    "name": "ipython",
    "version": 3
   },
   "file_extension": ".py",
   "mimetype": "text/x-python",
   "name": "python",
   "nbconvert_exporter": "python",
   "pygments_lexer": "ipython3",
   "version": "3.12.10"
  }
 },
 "nbformat": 4,
 "nbformat_minor": 5
}
