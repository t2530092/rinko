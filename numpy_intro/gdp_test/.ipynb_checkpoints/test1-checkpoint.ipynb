{
 "cells": [
  {
   "cell_type": "code",
   "execution_count": 7,
   "id": "d0493168-da15-433b-8703-3e87d0c17dee",
   "metadata": {},
   "outputs": [],
   "source": [
    "import numpy as np"
   ]
  },
  {
   "cell_type": "code",
   "execution_count": 8,
   "id": "17646a41-3922-4c7b-98de-0af7343e9660",
   "metadata": {},
   "outputs": [
    {
     "name": "stdout",
     "output_type": "stream",
     "text": [
      "[[ 0  1  2  3  4  5  6  7  8  9]\n",
      " [10 11 12 13 14 15 16 17 18 19]\n",
      " [20 21 22 23 24 25 26 27 28 29]\n",
      " [30 31 32 33 34 35 36 37 38 39]\n",
      " [40 41 42 43 44 45 46 47 48 49]\n",
      " [50 51 52 53 54 55 56 57 58 59]\n",
      " [60 61 62 63 64 65 66 67 68 69]\n",
      " [70 71 72 73 74 75 76 77 78 79]\n",
      " [80 81 82 83 84 85 86 87 88 89]\n",
      " [90 91 92 93 94 95 96 97 98 99]]\n"
     ]
    }
   ],
   "source": [
    "array_size = 100\n",
    "np_array = np.arange(array_size)\n",
    "np_array = np_array.reshape((10, 10))\n",
    "print(np_array)"
   ]
  },
  {
   "cell_type": "code",
   "execution_count": 16,
   "id": "60174bce-21a9-4299-8a0b-222aa01e798a",
   "metadata": {},
   "outputs": [
    {
     "name": "stdout",
     "output_type": "stream",
     "text": [
      "[ 67.  92.  92.  77.  83.  65.  86.  64.  58. 100.  58.]\n"
     ]
    }
   ],
   "source": [
    "#np_size = 20\n",
    "#np_array = np.zeros(np_size)\n",
    "#sol = []\n",
    "#for i in range(np_size):\n",
    "#    np_array[i] = np.random.randint(0, 101)   \n",
    "#ve = np_array.mean()\n",
    "#for i in range(np_size):\n",
    "#    if np_array[i] > ave :\n",
    "#        sol.append(float(np_array[i]))\n",
    "#print(sol)\n",
    "\n",
    "np_size = 20\n",
    "np_array = np.random.randint(0, 101, size = np_size)\n",
    "ave = np_array.mean()\n",
    "sol = np_array[np_array > ave].astype(float)\n",
    "print(sol)\n"
   ]
  },
  {
   "cell_type": "code",
   "execution_count": 2,
   "id": "41cb363d-d8f6-41a8-816b-f9e7451334df",
   "metadata": {},
   "outputs": [
    {
     "name": "stdout",
     "output_type": "stream",
     "text": [
      "[0. 0. 0. 0. 0. 0. 0. 0. 0. 0.]\n"
     ]
    }
   ],
   "source": [
    "import numpy as np\n",
    "array_size = 10\n",
    "np_array = np.zeros(array_size)\n",
    "print(np_array)"
   ]
  },
  {
   "cell_type": "code",
   "execution_count": 3,
   "id": "aeb86176-03df-47c9-ad5d-f8750a4831c5",
   "metadata": {},
   "outputs": [
    {
     "name": "stdout",
     "output_type": "stream",
     "text": [
      "[10 11 12 13 14 15 16 17 18 19 20 21 22 23 24 25 26 27 28 29 30 31 32 33\n",
      " 34 35 36 37 38 39 40 41 42 43 44 45 46 47 48 49]\n"
     ]
    }
   ],
   "source": [
    "import numpy as np\n",
    "np_array = np.arange(10, 50)\n",
    "print(np_array)"
   ]
  },
  {
   "cell_type": "code",
   "execution_count": 6,
   "id": "43a89937-d52e-4bdd-b0db-a0800ea860b4",
   "metadata": {},
   "outputs": [
    {
     "name": "stdout",
     "output_type": "stream",
     "text": [
      "[5 4 3 2 1]\n"
     ]
    }
   ],
   "source": [
    "import numpy as np\n",
    "np_array = np.array([1, 2, 3, 4, 5])\n",
    "np_array = np.flip(np_array)\n",
    "print(np_array)"
   ]
  },
  {
   "cell_type": "code",
   "execution_count": 7,
   "id": "857cead2-d8ac-49b3-82fa-5302beacdf06",
   "metadata": {},
   "outputs": [
    {
     "name": "stdout",
     "output_type": "stream",
     "text": [
      "[[0 1 2]\n",
      " [3 4 5]\n",
      " [6 7 8]]\n"
     ]
    }
   ],
   "source": [
    "import numpy as np\n",
    "np_array = np.arange(9)\n",
    "np_array = np_array.reshape((3, 3))\n",
    "print(np_array)"
   ]
  },
  {
   "cell_type": "code",
   "execution_count": 8,
   "id": "6eabad1d-8ec1-4702-87f8-ccb7fdc57287",
   "metadata": {},
   "outputs": [
    {
     "name": "stdout",
     "output_type": "stream",
     "text": [
      "[1 2 3]\n"
     ]
    }
   ],
   "source": [
    "import numpy as np\n",
    "np_array = np.array([0, 1, 2, 0, 3, 0])\n",
    "np_array = np_array[np_array != 0]\n",
    "print(np_array)"
   ]
  },
  {
   "cell_type": "code",
   "execution_count": 16,
   "id": "5895a621-2020-497b-bb81-710599230421",
   "metadata": {},
   "outputs": [
    {
     "name": "stdout",
     "output_type": "stream",
     "text": [
      "[[1. 0. 0. 0. 0.]\n",
      " [0. 1. 0. 0. 0.]\n",
      " [0. 0. 1. 0. 0.]\n",
      " [0. 0. 0. 1. 0.]\n",
      " [0. 0. 0. 0. 1.]]\n"
     ]
    }
   ],
   "source": [
    "import numpy as np\n",
    "np_array = np.eye((5))\n",
    "print(np_array)"
   ]
  },
  {
   "cell_type": "code",
   "execution_count": 14,
   "id": "8587dfc9-4bee-4c15-973a-d5af3aaeb7b3",
   "metadata": {},
   "outputs": [
    {
     "name": "stdout",
     "output_type": "stream",
     "text": [
      "[[11 14 17 20]\n",
      " [23 30 37 44]\n",
      " [35 46 57 68]]\n"
     ]
    }
   ],
   "source": [
    "import numpy as np\n",
    "np_array1 = np.arange(1,7)\n",
    "np_array2 = np.arange(1,9)\n",
    "np_array1 = np_array1.reshape((3, 2))\n",
    "np_array2 = np_array2.reshape((2, 4))\n",
    "np_sol = np.dot(np_array1, np_array2)\n",
    "print(np_sol)"
   ]
  },
  {
   "cell_type": "code",
   "execution_count": 31,
   "id": "c357a1ea-cb73-451f-b3cb-947621a31d09",
   "metadata": {},
   "outputs": [
    {
     "name": "stdout",
     "output_type": "stream",
     "text": [
      "[0.21428571 0.94897959 0.52040816 0.96938776 0.47959184 0.29591837\n",
      " 0.83673469 0.53061224 0.36734694 0.96938776 0.93877551 0.68367347\n",
      " 0.30612245 0.10204082 0.65306122 0.32653061 0.58163265 0.12244898\n",
      " 0.7755102  0.87755102 0.68367347 0.47959184 0.36734694 0.\n",
      " 0.20408163 0.44897959 0.56122449 0.74489796 0.30612245 0.21428571\n",
      " 0.47959184 0.59183673 0.95918367 0.24489796 0.48979592 0.58163265\n",
      " 0.67346939 0.37755102 0.34693878 0.01020408 0.1122449  0.95918367\n",
      " 0.28571429 0.04081633 0.8877551  0.3877551  0.21428571 0.56122449\n",
      " 0.90816327 1.         0.08163265 0.19387755 0.1122449  0.21428571\n",
      " 1.         0.34693878 0.30612245 0.65306122 0.71428571 0.6122449\n",
      " 0.56122449 0.68367347 0.78571429 0.17346939 0.8877551  0.07142857\n",
      " 0.7244898  0.20408163 0.65306122 1.         0.54081633 0.31632653\n",
      " 0.10204082 0.18367347 0.68367347 0.65306122 0.3877551  0.54081633\n",
      " 0.42857143 0.78571429 0.5        0.05102041 0.33673469 0.63265306\n",
      " 0.36734694 0.21428571 0.82653061 0.79591837 0.08163265 0.68367347\n",
      " 0.85714286 0.29591837 0.68367347 0.67346939 0.66326531 0.06122449\n",
      " 0.59183673 0.06122449 0.5        0.90816327]\n"
     ]
    }
   ],
   "source": [
    "import numpy as np\n",
    "\n",
    "def get_max(a):\n",
    "    return a.max()\n",
    "\n",
    "def get_min(a):\n",
    "    return a.min()\n",
    "\n",
    "# 生成一个包含 100 个随机整数的数组\n",
    "np_array = np.random.randint(1, 101, 100)\n",
    "\n",
    "# 获取最小值和最大值\n",
    "np_min = get_min(np_array)\n",
    "np_max = get_max(np_array)\n",
    "\n",
    "# 使用广播进行归一化\n",
    "np_array_normalized = (np_array - np_min) / (np_max - np_min)\n",
    "\n",
    "print(np_array_normalized)"
   ]
  },
  {
   "cell_type": "code",
   "execution_count": null,
   "id": "d739b7bd-391b-49f5-9c43-1ae48dcde5a3",
   "metadata": {},
   "outputs": [],
   "source": [
    "import numpy as np\n",
    "zero_array = np.zeros((3, 4))\n",
    "print(zero_array)\n",
    "print(zero_array.shape)\n",
    "print(zero_array.ndim)\n",
    "print(zero_array.size)"
   ]
  }
 ],
 "metadata": {
  "kernelspec": {
   "display_name": "Python 3 (ipykernel)",
   "language": "python",
   "name": "python3"
  },
  "language_info": {
   "codemirror_mode": {
    "name": "ipython",
    "version": 3
   },
   "file_extension": ".py",
   "mimetype": "text/x-python",
   "name": "python",
   "nbconvert_exporter": "python",
   "pygments_lexer": "ipython3",
   "version": "3.12.10"
  }
 },
 "nbformat": 4,
 "nbformat_minor": 5
}
